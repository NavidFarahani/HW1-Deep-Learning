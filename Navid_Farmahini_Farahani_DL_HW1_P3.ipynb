{
  "cells": [
    {
      "cell_type": "code",
      "source": [
        "#In the name of God\n",
        "import numpy as np\n",
        "import pandas as pd\n",
        "import matplotlib.pyplot as plt\n",
        "first_name= \"Navid\"\n",
        "last_name= \"Farmahini Farahani\"\n",
        "student_number= \"401210923\"\n",
        "Data=pd.read_csv(\"Heart_Disease_Dataset.csv\")\n",
        "magnitude_of_Data=Data.shape[0]*Data.shape[1]\n",
        "\n",
        "print(\"Magnitude of data is: \"+str(magnitude_of_Data)+\" or \"+str(Data.shape[0])+\"*\"+str(Data.shape[1]))\n"
      ],
      "metadata": {
        "id": "vIc3IssKK6_8",
        "outputId": "68435233-bd03-4112-ef31-e3403b4dcb7d",
        "colab": {
          "base_uri": "https://localhost:8080/"
        }
      },
      "execution_count": null,
      "outputs": [
        {
          "output_type": "stream",
          "name": "stdout",
          "text": [
            "Magnitude of data is: 14280 or 1190*12\n"
          ]
        }
      ]
    },
    {
      "cell_type": "code",
      "source": [
        "num_missing_info=len(np.where(Data.isna()==True)[0])\n",
        "\n",
        "print(\"Number of missing information is: \"+str(num_missing_info))\n"
      ],
      "metadata": {
        "id": "y6JMzismLZN1",
        "outputId": "7979f669-cabb-4010-baa7-7ff0225d1486",
        "colab": {
          "base_uri": "https://localhost:8080/"
        }
      },
      "execution_count": null,
      "outputs": [
        {
          "output_type": "stream",
          "name": "stdout",
          "text": [
            "Number of missing information is: 0\n"
          ]
        }
      ]
    },
    {
      "cell_type": "code",
      "source": [
        "\n",
        "\n",
        "class_0=np.where(Data['target']==0)\n",
        "num_0=np.shape(class_0)[1]\n",
        "\n",
        "class_1=np.where(Data['target']==1)\n",
        "num_1=np.shape(class_1)[1]\n",
        "\n",
        "print(\"Number of elements in Class 0: \"+str(num_0)+\"\\nNumber of elements in Class 1: \"+str(num_1)+\"\\nMean is: \"+str((num_0+num_1)/2)+\"\\nDifference is: \"+str(num_1-num_0)+\"\\nSo the class is balance\")\n",
        "means_class_0=np.zeros(np.shape(Data)[1]-1)\n",
        "stds_class_0=np.zeros(np.shape(Data)[1]-1)\n",
        "means_class_1=np.zeros(np.shape(Data)[1]-1)\n",
        "stds_class_1=np.zeros(np.shape(Data)[1]-1)\n",
        "for i in range(Data.shape[1]-1):\n",
        "    s_1=[]\n",
        "    s_0=[]\n",
        "    for j in range(Data.shape[0]):\n",
        "        if (np.array(Data)[j,-1]==1):\n",
        "            s_1.append(np.array(Data)[j,i])\n",
        "        else:\n",
        "            s_0.append(np.array(Data)[j,i])\n",
        "\n",
        "    means_class_0[i]=np.mean(np.array(s_0))\n",
        "    means_class_1[i]=np.mean(np.array(s_1))\n",
        "    stds_class_0[i]=np.std(np.array(s_0))\n",
        "    stds_class_1[i]=np.std(np.array(s_1))\n",
        "\n",
        "print(\"Mean of Class 0 are:\"+str(means_class_0))\n",
        "print(\"Mean of Class 1 are:\"+str(means_class_1))\n",
        "print(\"Standard Deviation of Class 0 are:\"+str(stds_class_0))\n",
        "print(\"Standard Deviation of Class 1 are:\"+str(stds_class_1))\n",
        "\n",
        "print(\"Mean Absolute Error between means are:\"+str(abs(means_class_0-means_class_1)/means_class_0))\n",
        "print(\"Mean Absolute Error between stds are:\"+str(abs(stds_class_0-stds_class_1)/stds_class_0))\n",
        "\n",
        "print(\"\\n\\n---So according to the MAE, classes are balance and have a suitable distribution\")\n"
      ],
      "metadata": {
        "id": "2gWvIynJLgfM",
        "outputId": "418c68af-c65f-4da2-e327-446725cf3e33",
        "colab": {
          "base_uri": "https://localhost:8080/"
        }
      },
      "execution_count": null,
      "outputs": [
        {
          "output_type": "stream",
          "name": "stdout",
          "text": [
            "Number of elements in Class 0: 561\n",
            "Number of elements in Class 1: 629\n",
            "Mean is: 595.0\n",
            "Difference is: 68\n",
            "So the class is balance\n",
            "Mean of Class 0 are:[5.11247772e+01 6.23885918e-01 2.77718360e+00 1.29793226e+02\n",
            " 2.31657754e+02 1.19429590e-01 6.31016043e-01 1.50894831e+02\n",
            " 1.39037433e-01 4.64705882e-01 1.29768271e+00]\n",
            "Mean of Class 1 are:[ 56.03497615   0.88871224   3.6391097  134.25914149 191.37201908\n",
            "   0.2972973    0.75834658 129.77742448   0.60890302   1.33131955\n",
            "   1.91573927]\n",
            "Standard Deviation of Class 0 are:[ 9.48544862  0.48440921  0.90861195 16.47577026 69.95922276  0.32429333\n",
            "  0.8679481  22.68472575  0.34598559  0.73258896  0.53618941]\n",
            "Standard Deviation of Class 1 are:[  8.59837217   0.31448814   0.753453    19.65468022 119.63939557\n",
            "   0.4570685    0.86741826  23.69965887   0.48799604   1.18240479\n",
            "   0.51762909]\n",
            "Mean Absolute Error between means are:[0.09604343 0.42447876 0.31035978 0.03440792 0.17390195 1.48931021\n",
            " 0.20178653 0.13994784 3.37941788 1.86486486 0.4762771 ]\n",
            "Mean Absolute Error between stds are:[9.35197143e-02 3.50780001e-01 1.70764814e-01 1.92944543e-01\n",
            " 7.10130428e-01 4.09429243e-01 6.10452864e-04 4.47408149e-02\n",
            " 4.10451931e-01 6.14008468e-01 3.46152357e-02]\n",
            "\n",
            "\n",
            "---So according to the MAE, classes are balance and have a suitable distribution\n"
          ]
        }
      ]
    },
    {
      "cell_type": "code",
      "source": [
        "#Age\n",
        "Data_numpy=np.array(Data)\n",
        "elements_of_class_0=np.reshape(Data_numpy[class_0,:],(num_0,12))\n",
        "elements_of_class_0[:,-1]\n",
        "\n",
        "elements_of_class_1=np.reshape(Data_numpy[class_1,:],(num_1,12))\n",
        "elements_of_class_1[:,-1]\n",
        "\n",
        "ages_class_0=np.array(elements_of_class_0[:,0])\n",
        "\n",
        "\n",
        "ages_class_1=np.array(elements_of_class_1[:,0])\n",
        "\n",
        "\n",
        "sexes_class_0=np.array(elements_of_class_0[:,1])\n",
        "\n",
        "\n",
        "sexes_class_1=np.array(elements_of_class_1[:,1])\n",
        "\n",
        "plt.figure(figsize=(20,10))\n",
        "\n",
        "plt.subplot(2,2,1)\n",
        "plt.hist(ages_class_0)\n",
        "plt.title(\"Ages of Class 0\")\n",
        "\n",
        "plt.subplot(2,2,2)\n",
        "plt.hist(ages_class_1)\n",
        "plt.title(\"Ages of Class 1\")\n",
        "\n",
        "plt.subplot(2,2,3)\n",
        "plt.hist(sexes_class_0)\n",
        "plt.title(\"Sexes of Class 0\")\n",
        "\n",
        "plt.subplot(2,2,4)\n",
        "plt.hist(sexes_class_1)\n",
        "plt.title(\"Sexes of Class 1\")"
      ],
      "metadata": {
        "id": "Zb_flF-fLh_N",
        "outputId": "78618a18-aa17-4a15-b148-abf1ca780ab0",
        "colab": {
          "base_uri": "https://localhost:8080/",
          "height": 614
        }
      },
      "execution_count": null,
      "outputs": [
        {
          "output_type": "execute_result",
          "data": {
            "text/plain": [
              "Text(0.5, 1.0, 'Sexes of Class 1')"
            ]
          },
          "metadata": {},
          "execution_count": 8
        },
        {
          "output_type": "display_data",
          "data": {
            "text/plain": [
              "<Figure size 2000x1000 with 4 Axes>"
            ],
            "image/png": "[encoded data removed]"
          },
          "metadata": {}
        }
      ]
    },
    {
      "cell_type": "code",
      "source": [
        "all_Data=np.zeros((Data.shape[0],12))\n",
        "\n",
        "for index_data in range(Data_numpy.shape[1]):\n",
        "    Data_Column=Data_numpy[:,index_data]\n",
        "    mean=np.mean(Data_Column)\n",
        "    std=np.std(Data_Column)\n",
        "    Z_data_Column=(Data_Column-mean)/std\n",
        "    Data_Column_reduced=np.zeros(Z_data_Column.shape[0])\n",
        "    index_reduced=[]\n",
        "    for i in range(Data.shape[0]):\n",
        "        if(Z_data_Column[i]<=3 and Z_data_Column[i]>=-3):\n",
        "            Data_Column_reduced[i]=Data_Column[i]\n",
        "        else:\n",
        "            Data_Column_reduced[i]=np.nan\n",
        "    all_Data[:np.shape(Data_Column_reduced)[0],index_data]=Data_Column_reduced\n",
        "\n",
        "indexes_outlier=np.where(np.isnan(all_Data)==True)\n",
        "outlier_data=Data_numpy[indexes_outlier]\n",
        "\n",
        "print(\"Outlier data are:\"+str(outlier_data))\n",
        "\n",
        "# We ignore rows that contain np.nan values by the follow code:\n",
        "\n",
        "all_Data_reduced=[]\n",
        "for i in range(Data.shape[0]):\n",
        "    if i not in indexes_outlier[0]:\n",
        "        all_Data_reduced.append(all_Data[i])\n",
        "all_Data_reduced=np.array(all_Data_reduced)\n",
        "print(\"Final size of nonoutlier data is: \"+str(all_Data_reduced.shape[0]*all_Data_reduced.shape[1])+\" or \"+str(all_Data_reduced.shape[0])+\"*\"+str(all_Data_reduced.shape[1]))\n",
        "\n",
        "\n",
        "for index_data in ([0,3,4,7,9]):\n",
        "    all_Data_reduced[:,index_data]=all_Data_reduced[:,index_data]/np.max(all_Data_reduced[:,index_data])\n"
      ],
      "metadata": {
        "id": "tH43ouIzL5Di",
        "outputId": "55d3cf30-7064-4b50-a1a2-a77cf2aa8b0f",
        "colab": {
          "base_uri": "https://localhost:8080/"
        }
      },
      "execution_count": null,
      "outputs": [
        {
          "output_type": "stream",
          "name": "stdout",
          "text": [
            "Outlier data are:[518.  529.  190.  603.    5.  200.   -2.6 200.   63.   60.  200.    0.\n",
            " 190.  564.    4.2 200.  192.    5.6   4.2   6.2   6.2   5.6 200.  564.\n",
            "   4.2 192.    4.2   4.4]\n",
            "Final size of nonoutlier data is: 13944 or 1162*12\n"
          ]
        }
      ]
    },
    {
      "cell_type": "code",
      "source": [
        "\n",
        "\n",
        "from torch.utils.data import random_split\n",
        "# We use torch library to determine train and test set by using random_split\n",
        "\n",
        "train_percent=0.7\n",
        "test_percent=1-train_percent\n",
        "train_dataset,test_dataset=random_split(all_Data_reduced,[int(train_percent*all_Data_reduced.shape[0]),1+int(test_percent*all_Data_reduced.shape[0])])\n",
        "\n",
        "x_train=np.array(train_dataset)[:,:11]\n",
        "y_train=np.array(train_dataset)[:,-1]\n",
        "x_test=np.array(test_dataset)[:,:11]\n",
        "y_test=np.array(test_dataset)[:,-1]\n",
        "\n",
        "###################### linear kernel\n",
        "import numpy as np\n",
        "\n",
        "# we use SVM function. In this function, if a data is missclassified, we update the w to get nearer to it\n",
        "# Otherwise, we do nothing for updating weights and biases.\n",
        "def svm(lr, num_ite, X_train, y_train, X_test):\n",
        "    w=np.zeros(X_train.shape[1])\n",
        "    b=0\n",
        "    for iteration in range(num_ite):\n",
        "        for index in range(X_train.shape[0]):\n",
        "            missclassified_data_flag = y_train[index]*(np.dot(X_train[index,:],w)-b)\n",
        "            if missclassified_data_flag<=1:\n",
        "                w=w-lr*(-np.dot(X_train[index,:],y_train[index]))\n",
        "                b=b-lr*y_train[index]\n",
        "    flag=np.dot(X_test,w)-b\n",
        "    y_pred=np.sign(flag)\n",
        "    return y_pred\n",
        "\n",
        "\n",
        "lr=1e-4\n",
        "num_ite=2000\n",
        "\n",
        "y_train2=y_train*2-1# labels are 0 and 1, we should map them to 1 and -1\n",
        "y_pred=svm(lr=lr,num_ite=num_ite,X_train=x_train,y_train=y_train2,X_test=x_test)\n",
        "\n",
        "\n",
        "\n",
        "y_test2=2*y_test-1# labels are 0 and 1, we should map them to 1 and -1\n",
        "print(\"Accuracy Is: \" +str(sum(y_pred==y_test2)/len(y_test2)))\n",
        "\n",
        "TP=0\n",
        "TN=0\n",
        "FP=0\n",
        "FN=0\n",
        "for i in range(len(y_test2)):\n",
        "    if y_test2[i]==1 and y_pred[i]==1:\n",
        "        TP=TP+1\n",
        "    if y_test2[i]==1 and y_pred[i]==-1:\n",
        "        FN=FN+1\n",
        "    if y_test2[i]==-1 and y_pred[i]==1:\n",
        "        FP=FP+1\n",
        "    if y_test2[i]==-1 and y_pred[i]==-1:\n",
        "        TN=TN+1\n",
        "\n",
        "Acc=(TP+TN)/(TN+TP+FP+FN)\n",
        "Precision=TP/(TP+FP)\n",
        "Recall=TP/(TP+FN)\n",
        "F1_score=2*(Precision*Recall)/(Precision+Recall)\n",
        "print(\"Parameters:\\nAccuracy: \" +str(Acc)+\"\\nPrecision: \"+str(Precision)+\"\\nRecall: \"+str(Recall)+\"\\nF1score: \"+str(F1_score))\n",
        "\n",
        "print(\"\\n\\n-- Note that we used random_split, so every time, the answer may become different a little.\")\n",
        "#Accuracy is 80.5157%"
      ],
      "metadata": {
        "id": "gL21tWv_L9mq",
        "outputId": "79f6253d-3d9d-4005-a996-ce43a9a9e441",
        "colab": {
          "base_uri": "https://localhost:8080/"
        }
      },
      "execution_count": null,
      "outputs": [
        {
          "output_type": "stream",
          "name": "stdout",
          "text": [
            "Accuracy Is: 0.8538681948424068\n",
            "Parameters:\n",
            "Accuracy: 0.8538681948424068\n",
            "Precision: 0.8907103825136612\n",
            "Recall: 0.8402061855670103\n",
            "F1score: 0.8647214854111406\n",
            "\n",
            "\n",
            "-- Note that we used random_split, so every time, the answer may become different a little.\n"
          ]
        }
      ]
    },
    {
      "cell_type": "code",
      "source": [
        "###################### RBF kernel\n",
        "#We consider RBF_features. Then we use this function to produce more features from x_train and x_test\n",
        "\n",
        "def RBF_features(data,gamma):\n",
        "    expanded_data=data\n",
        "    for_range=[0,3,4,7,9]\n",
        "    for i in (for_range):\n",
        "        for j in (for_range):\n",
        "            the_feature=np.exp(-gamma*(data[:,i]-data[:,j])**2)\n",
        "            the_feature=np.reshape(the_feature,(data.shape[0],1))\n",
        "            expanded_data=np.concatenate((expanded_data,the_feature),1)\n",
        "\n",
        "    return expanded_data\n",
        "gamma=1\n",
        "x_train2=RBF_features(x_train,gamma=gamma)\n",
        "x_test2=RBF_features(x_test,gamma=gamma)\n",
        "print(x_train2.shape)\n",
        "\n",
        "y_train2=y_train*2-1# labels are 0 and 1, we should map them to 1 and -1\n",
        "y_pred=svm(lr=lr,num_ite=num_ite,X_train=x_train2,y_train=y_train2,X_test=x_test2)\n",
        "\n",
        "\n",
        "y_test2=2*y_test-1# labels are 0 and 1, we should map them to 1 and -1\n",
        "print(\"Accuracy Is: \" +str(sum(y_pred==y_test2)/len(y_test2)))\n",
        "print(\"Gamma is: \"+str(gamma))\n",
        "\n",
        "TP=0\n",
        "TN=0\n",
        "FP=0\n",
        "FN=0\n",
        "for i in range(len(y_test2)):\n",
        "    if y_test2[i]==1 and y_pred[i]==1:\n",
        "        TP=TP+1\n",
        "    if y_test2[i]==1 and y_pred[i]==-1:\n",
        "        FN=FN+1\n",
        "    if y_test2[i]==-1 and y_pred[i]==1:\n",
        "        FP=FP+1\n",
        "    if y_test2[i]==-1 and y_pred[i]==-1:\n",
        "        TN=TN+1\n",
        "\n",
        "Acc=(TP+TN)/(TN+TP+FP+FN)\n",
        "Precision=TP/(TP+FP)\n",
        "Recall=TP/(TP+FN)\n",
        "F1_score=2*(Precision*Recall)/(Precision+Recall)\n",
        "print(\"Parameters:\\nAccuracy: \" +str(Acc)+\"\\nPrecision: \"+str(Precision)+\"\\nRecall: \"+str(Recall)+\"\\nF1score: \"+str(F1_score))\n",
        "\n",
        "print(\"\\n\\n-- Note that we used random_split, so every time, the answer may become different a little.\")\n",
        "#Accuracy is 84.5272206303725%(for gamma=1)\n",
        "#Accuracy is 83.95415472779369(for gamma=0.01)\n",
        "#Accuracy is 83.95415472779369(for gamma=0.01)"
      ],
      "metadata": {
        "id": "o0lEV3i6MLi8",
        "outputId": "261bf190-6147-4e6b-c3ee-344d039cfcef",
        "colab": {
          "base_uri": "https://localhost:8080/"
        }
      },
      "execution_count": null,
      "outputs": [
        {
          "output_type": "stream",
          "name": "stdout",
          "text": [
            "(813, 36)\n",
            "Accuracy Is: 0.8710601719197708\n",
            "Gamma is: 1\n",
            "Parameters:\n",
            "Accuracy: 0.8710601719197708\n",
            "Precision: 0.8983957219251337\n",
            "Recall: 0.865979381443299\n",
            "F1score: 0.8818897637795275\n",
            "\n",
            "\n",
            "-- Note that we used random_split, so every time, the answer may become different a little.\n"
          ]
        }
      ]
    },
    {
      "cell_type": "code",
      "source": [
        "###################### polynomial kernel\n",
        "#We consider polynomial_features. Then we use this function to produce more features from x_train and x_test\n",
        "# Note that we multiplied all the numerial features together. We could determine every possible multiplication\n",
        "# among all data ( so we had 11^d features that are very huge)\n",
        "def polynomial_features(data,d):\n",
        "    expanded_data=data\n",
        "    for_range=[0,3,4,7,9]\n",
        "    if (d==4):\n",
        "        for l in (for_range):\n",
        "            for k in (for_range):\n",
        "                for i in (for_range):\n",
        "                    for j in (for_range):\n",
        "                        the_feature=np.reshape(data[:,i]*data[:,j]*data[:,k]*data[:,l],(data.shape[0],1))\n",
        "                        expanded_data=np.concatenate((expanded_data,the_feature),1)\n",
        "\n",
        "    elif(d==3):\n",
        "        for k in (for_range):\n",
        "            for i in (for_range):\n",
        "                for j in (for_range):\n",
        "                    the_feature=np.reshape(data[:,i]*data[:,j]*data[:,k],(data.shape[0],1))\n",
        "                    expanded_data=np.concatenate((expanded_data,the_feature),1)\n",
        "\n",
        "    else:\n",
        "        for i in (for_range):\n",
        "            for j in (for_range):\n",
        "                the_feature=np.reshape(data[:,i]*data[:,j],(data.shape[0],1))\n",
        "                expanded_data=np.concatenate((expanded_data,the_feature),1)\n",
        "\n",
        "    return expanded_data\n",
        "d=4\n",
        "lr=1e-4\n",
        "num_ite=2000\n",
        "\n",
        "x_train2=polynomial_features(x_train,d=d)\n",
        "x_test2=polynomial_features(x_test,d=d)\n",
        "print(x_train2.shape)\n",
        "\n",
        "y_train2=y_train*2-1# labels are 0 and 1, we should map them to 1 and -1\n",
        "y_pred=svm(lr=lr,num_ite=num_ite,X_train=x_train2,y_train=y_train2,X_test=x_test2)\n",
        "\n",
        "y_test2=2*y_test-1# labels are 0 and 1, we should map them to 1 and -1\n",
        "print(\"Accuracy Is: \" +str(sum(y_pred==y_test2)/len(y_test2)))\n",
        "print(\"Degree of polynomial kernel is: \"+str(d))\n",
        "\n",
        "TP=0\n",
        "TN=0\n",
        "FP=0\n",
        "FN=0\n",
        "for i in range(len(y_test2)):\n",
        "    if y_test2[i]==1 and y_pred[i]==1:\n",
        "        TP=TP+1\n",
        "    if y_test2[i]==1 and y_pred[i]==-1:\n",
        "        FN=FN+1\n",
        "    if y_test2[i]==-1 and y_pred[i]==1:\n",
        "        FP=FP+1\n",
        "    if y_test2[i]==-1 and y_pred[i]==-1:\n",
        "        TN=TN+1\n",
        "\n",
        "Acc=(TP+TN)/(TN+TP+FP+FN)\n",
        "Precision=TP/(TP+FP)\n",
        "Recall=TP/(TP+FN)\n",
        "F1_score=2*(Precision*Recall)/(Precision+Recall)\n",
        "print(\"Parameters:\\nAccuracy: \" +str(Acc)+\"\\nPrecision: \"+str(Precision)+\"\\nRecall: \"+str(Recall)+\"\\nF1score: \"+str(F1_score))\n",
        "\n",
        "print(\"\\n\\n-- Note that we used random_split, so every time, the answer may become different a little.\")\n",
        "#Accuracy is 85.67335243553008% d=4\n",
        "#Accuracy is 84.81375358166189% d=3\n",
        "#Accuracy is 83.3810888252149% d=2\n"
      ],
      "metadata": {
        "id": "bKsni_raMO8b",
        "outputId": "6916b0f2-1ecd-4189-a177-578addd38eda",
        "colab": {
          "base_uri": "https://localhost:8080/"
        }
      },
      "execution_count": null,
      "outputs": [
        {
          "output_type": "stream",
          "name": "stdout",
          "text": [
            "(813, 636)\n",
            "Accuracy Is: 0.8681948424068768\n",
            "Degree of polynomial kernel is: 4\n",
            "Parameters:\n",
            "Accuracy: 0.8681948424068768\n",
            "Precision: 0.8894736842105263\n",
            "Recall: 0.8711340206185567\n",
            "F1score: 0.8802083333333335\n",
            "\n",
            "\n",
            "-- Note that we used random_split, so every time, the answer may become different a little.\n"
          ]
        }
      ]
    }
  ],
  "metadata": {
    "colab": {
      "provenance": []
    },
    "kernelspec": {
      "display_name": "Python 3",
      "name": "python3"
    }
  },
  "nbformat": 4,
  "nbformat_minor": 0
}